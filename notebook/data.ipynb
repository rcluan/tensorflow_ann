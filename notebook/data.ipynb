{
 "cells": [
  {
   "cell_type": "code",
   "execution_count": 1,
   "metadata": {},
   "outputs": [],
   "source": [
    "import numpy as np\n",
    "from sklearn.preprocessing import MinMaxScaler\n",
    "from sklearn.preprocessing import LabelEncoder\n",
    "\n",
    "TARGET_NAMES = ['v_anemo']\n",
    "\n",
    "NUM_TOTAL = 744\n",
    "NUM_TRAIN = 550\n",
    "\n",
    "VALIDATION_SPLIT = 0.2\n",
    "\n",
    "class DataProcessor:\n",
    "\n",
    "    def __init__(self, dataset):\n",
    "\n",
    "        dataset.values.astype('float32')\n",
    "\n",
    "        self.raw_dataset = dataset\n",
    "        self.encoder = LabelEncoder()\n",
    "\n",
    "        self.x_scaler = MinMaxScaler((-1,1))\n",
    "        self.y_scaler = MinMaxScaler((-1,1))\n",
    "\n",
    "        self.target_names = TARGET_NAMES\n",
    "        self.validation_split = VALIDATION_SPLIT\n",
    "\n",
    "    def shift(self, shift_steps):\n",
    "        self.dataset_targets = self.raw_dataset[TARGET_NAMES].shift(-shift_steps)\n",
    "\n",
    "    def to_numpy_arrays(self, shift_steps):\n",
    "        x_data = self.raw_dataset.values[0:-shift_steps]\n",
    "        y_data = self.dataset_targets.values[:-shift_steps]\n",
    "  \n",
    "        return x_data, y_data\n",
    "\n",
    "    def build_dataset(self, x_data, y_data):\n",
    "\n",
    "        self.n_inputs = x_data.shape[1]\n",
    "        self.n_outputs = y_data.shape[1]\n",
    "\n",
    "        self.x_train = x_data[:NUM_TRAIN]\n",
    "        self.y_train = y_data[:NUM_TRAIN]\n",
    "\n",
    "        self.x_test = x_data[NUM_TRAIN:NUM_TOTAL]\n",
    "        self.y_test = y_data[NUM_TRAIN:NUM_TOTAL]\n",
    "\n",
    "        self.x_train_scaled = self.x_scaler.fit_transform(self.x_train)\n",
    "        #self.y_train_scaled = self.y_scaler.fit_transform(self.y_train)\n",
    "\n",
    "        self.x_test_scaled = self.x_scaler.transform(self.x_test)\n",
    "        #self.y_test_scaled = self.y_scaler.transform(self.y_test)\n",
    "\n",
    "    def rescale(self, data, x=True):\n",
    "        return self.x_scaler.inverse_transform(data[0]) if x else self.y_scaler.inverse_transform(data[0])"
   ]
  }
 ],
 "metadata": {
  "kernelspec": {
   "display_name": "Python 3",
   "language": "python",
   "name": "python3"
  },
  "language_info": {
   "codemirror_mode": {
    "name": "ipython",
    "version": 3
   },
   "file_extension": ".py",
   "mimetype": "text/x-python",
   "name": "python",
   "nbconvert_exporter": "python",
   "pygments_lexer": "ipython3",
   "version": "3.6.5"
  }
 },
 "nbformat": 4,
 "nbformat_minor": 2
}
