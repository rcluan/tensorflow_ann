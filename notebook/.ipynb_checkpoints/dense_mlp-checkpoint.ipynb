{
 "cells": [
  {
   "cell_type": "markdown",
   "metadata": {},
   "source": [
    "# Multilayer Perceptron with Dense Layers"
   ]
  },
  {
   "cell_type": "markdown",
   "metadata": {},
   "source": [
    "### Imports"
   ]
  },
  {
   "cell_type": "code",
   "execution_count": 1,
   "metadata": {},
   "outputs": [],
   "source": [
    "import tensorflow as tf\n",
    "from tensorflow import keras\n",
    "\n",
    "import numpy as np\n",
    "from matplotlib import pyplot"
   ]
  },
  {
   "cell_type": "markdown",
   "metadata": {},
   "source": [
    "### Default values"
   ]
  },
  {
   "cell_type": "markdown",
   "metadata": {},
   "source": [
    "We set a default batch size value and number of epochs. Also, the training and testing datasets have a fixed size. The former is defined by the N_TRAIN variable, whilst the latter is TOTAL-N_TRAIN"
   ]
  },
  {
   "cell_type": "code",
   "execution_count": 2,
   "metadata": {},
   "outputs": [],
   "source": [
    "DEFAULT_EPOCH = 50\n",
    "DEFAULT_BATCH = 72\n",
    "\n",
    "TOTAL = 744\n",
    "N_TRAIN = 550"
   ]
  },
  {
   "cell_type": "markdown",
   "metadata": {},
   "source": [
    "### Keras Dense MLP Class"
   ]
  },
  {
   "cell_type": "markdown",
   "metadata": {},
   "source": [
    "The data processor and dataset are respectively defined as follows:"
   ]
  },
  {
   "cell_type": "code",
   "execution_count": 6,
   "metadata": {},
   "outputs": [],
   "source": [
    "self.processor = processor #The data processor is responsible for handling operations with the dataset such as scaling, rescaling and preparing the data from a time series table to a supervised learning approach\n",
    "self.values = values #The values variable is the result of the values from the csv file read by the Pandas package"
   ]
  },
  {
   "cell_type": "markdown",
   "metadata": {},
   "source": [
    "The data processor is responsible for handling operations with the dataset such as scaling, rescaling and preparing the data from a time series table to a supervised learning approach\n",
    "\n",
    "The values variable is the result of the values from the csv file read by the Pandas package"
   ]
  },
  {
   "cell_type": "code",
   "execution_count": null,
   "metadata": {},
   "outputs": [],
   "source": [
    "self.hours = args.hours if args.hours else 1\n",
    "self.checkpoint = args.checkpoint if args.checkpoint else \"dense_\" + len(args.neurons) + \"_layers_checkpoint.keras\"\n",
    "self.epochs = args.epochs if args.epochs else DEFAULT_EPOCH\n",
    "self.batch  = args.batch if args.batch else DEFAULT_BATCH"
   ]
  },
  {
   "cell_type": "markdown",
   "metadata": {},
   "source": [
    "It is possible to set some variable using the arguments when calling the main.py from the command-line, such as the number of hours to consider for prediction (e.g. 1, 2 ou 3 hours into the future), the number of epochs, the batch size and others.\n",
    "\n",
    "The checkpoint variable represents the filename that contains the weights obtained during training."
   ]
  },
  {
   "cell_type": "code",
   "execution_count": null,
   "metadata": {},
   "outputs": [],
   "source": [
    "import tensorflow as tf\n",
    "from tensorflow import keras\n",
    "\n",
    "import numpy as np\n",
    "from matplotlib import pyplot\n",
    "\n",
    "np.set_printoptions(suppress=True)\n",
    "\n",
    "DEFAULT_EPOCH = 50\n",
    "DEFAULT_BATCH = 72\n",
    "\n",
    "TOTAL = 744\n",
    "N_TRAIN = 550\n",
    "\n",
    "class KerasDenseMLP:\n",
    "\n",
    "  def __init__(self, processor, args = None, values = []):\n",
    "\n",
    "    self.processor = processor\n",
    "    self.values = values\n",
    "\n",
    "    self.hours = args.hours if args.hours else 1\n",
    "    self.checkpoint = args.checkpoint if args.checkpoint else \"dense_\" + len(args.neurons) + \"_layers_checkpoint.keras\"\n",
    "    self.epochs = args.epochs if args.epochs else DEFAULT_EPOCH\n",
    "    self.batch  = args.batch if args.batch else DEFAULT_BATCH\n",
    "\n",
    "    self.build_data()\n",
    "    self.model = keras.Sequential()\n",
    "    \n",
    "    \"\"\"\n",
    "        Adds an input layer containing the number of attributes specified along with the -i flag\n",
    "      and having the hyperbolic tangent as the activation function.\n",
    "        Considering a neuron list with the format [4,5], its output shape ought to be (*, 4).\n",
    "    \"\"\"\n",
    "    self.model.add(keras.layers.Dense(\n",
    "      units=args.neurons[0],\n",
    "      activation=\"tanh\",\n",
    "      input_shape=(args.input,)\n",
    "    ))\n",
    "\n",
    "    \"\"\"\n",
    "        Adds hidden layers containing units according to the value supplied with the -n flag\n",
    "      e.g. -n 4 5 yields a list [4,5] therefore two hidden layers will be added. The former\n",
    "      having 4 neurons and the latter 5 neurons.\n",
    "        Their output shapes ought to be respectively (*, 5) and (*, args.output).\n",
    "    \"\"\"\n",
    "    for key, neurons in enumerate(args.neurons):\n",
    "      if key < len(args.neurons) - 1:\n",
    "        self.model.add(keras.layers.Dense(units=args.neurons[key+1], activation=\"tanh\"))\n",
    "      else:\n",
    "        self.model.add(keras.layers.Dense(units=args.output, activation=\"tanh\"))\n",
    "\n",
    "    \"\"\"\n",
    "        Adds output input layer containing the number of attributes specified along with the -o flag\n",
    "      and having the linear function as the activation function.\n",
    "        Its output shape ought to be (*, args.output).\n",
    "    \"\"\"\n",
    "    self.model.add(keras.layers.Dense(units=args.output))\n",
    "    \n",
    "    self.model.compile(\n",
    "      optimizer=keras.optimizers.SGD(lr=args.learning),\n",
    "      loss=keras.losses.MSE,\n",
    "      metrics=[keras.metrics.MSE, keras.metrics.MAE]\n",
    "    )\n",
    "\n",
    "  def build_data(self):\n",
    "    train = self.values[0:N_TRAIN]\n",
    "    test = self.values[N_TRAIN:TOTAL]\n",
    "\n",
    "    self.train_X, self.train_y = train[:, :-1], train[:, -1]\n",
    "    self.test_X, self.test_y = test[:, :-1], test[:, -1]\n",
    "\n",
    "  def train(self):\n",
    "    print(\"train\")\n",
    "    checkpoint = keras.callbacks.ModelCheckpoint(\n",
    "      filepath=self.checkpoint,\n",
    "      monitor=\"loss\",\n",
    "      verbose=1,\n",
    "      save_weights_only=True,\n",
    "      save_best_only=True\n",
    "    )\n",
    "    early_stopping = keras.callbacks.EarlyStopping(monitor=\"loss\", patience=5, verbose=1)\n",
    "    tensorboard = keras.callbacks.TensorBoard(log_dir=\"./logs/\", histogram_freq=0, write_graph=False)\n",
    "    \n",
    "    callbacks = [\n",
    "      checkpoint, early_stopping, tensorboard\n",
    "    ]\n",
    "    \n",
    "    history = self.model.fit(\n",
    "      self.train_X, self.train_y, epochs=self.epochs,\n",
    "      steps_per_epoch=36,\n",
    "      validation_split=1,\n",
    "      callbacks=callbacks\n",
    "    )\n",
    "\n",
    "    #pyplot.plot(history.history['loss'], label='train')\n",
    "    #pyplot.plot(history.history['val_loss'], label='test')\n",
    "    #pyplot.legend()\n",
    "    #pyplot.show()\n",
    "\n",
    "  def evaluate(self):\n",
    "    print(\"eval\")\n",
    "    result = self.model.evaluate(x=self.train_X, y=self.train_y)\n",
    "\n",
    "    for res, metric in zip(result, self.model.metrics_names):\n",
    "      print(\"{0}: {1:.3e}\".format(metric, res))\n",
    "\n",
    "  def predict(self):\n",
    "    print(\"predict\")\n",
    "\n",
    "    y_reshaped, y_real = None, None\n",
    "\n",
    "    for hour in range(self.hours):\n",
    "      self.test_X, self.test_y = self.test_X[hour:], self.test_y[hour:]\n",
    "      y_output = self.model.predict(self.test_X)\n",
    "\n",
    "      self.test_X[:,4] = y_output.reshape(len(y_output))\n",
    "\n",
    "      y_reshaped, y_real = self.processor.rescale(y_output, self.test_X, self.test_y)\n",
    "    \n",
    "    pyplot.plot(y_reshaped, label='predicted')\n",
    "    pyplot.plot(y_real, label='measured')\n",
    "    pyplot.legend()\n",
    "    pyplot.show()"
   ]
  }
 ],
 "metadata": {
  "kernelspec": {
   "display_name": "Python 3",
   "language": "python",
   "name": "python3"
  },
  "language_info": {
   "codemirror_mode": {
    "name": "ipython",
    "version": 3
   },
   "file_extension": ".py",
   "mimetype": "text/x-python",
   "name": "python",
   "nbconvert_exporter": "python",
   "pygments_lexer": "ipython3",
   "version": "3.6.6"
  }
 },
 "nbformat": 4,
 "nbformat_minor": 2
}
